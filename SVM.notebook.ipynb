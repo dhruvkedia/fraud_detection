{
 "cells": [
  {
   "cell_type": "markdown",
   "metadata": {
    "_cell_guid": "bbb22224-2fe6-459a-835c-13bce97c7151",
    "_uuid": "da58cc3ea228c0061bc37e07a051d1c21529a6a0"
   },
   "source": [
    "**Credit Card Fraud Detection**"
   ]
  },
  {
   "cell_type": "markdown",
   "metadata": {
    "_uuid": "5100d37619264e3a0bf5dde3e931aefad45f8363"
   },
   "source": [
    "With the provided dataset, we have 492 frauds out of 284,807 transactions, or the positive class (frauds) account for 0.172% of all transactions. In addition, we have a high dimentional dataset with 30 features, including 28 PCA-ed features (V1, V2, ... V28), 'Amount', and 'Time' features.\n",
    "\n",
    "Due to the highly unbalanced dataset, we will apply Sampling technique to under-sample the majority class, and over-sample the minority class before training process.\n",
    "\n",
    "Also, we used recursive feature elimination and cross-validated technique for features selection.\n",
    "\n",
    "Focus on the Recall score of the model - Fraud detection (True Negative Classification); however, we also consider the trade-off on the Precision score - Normal transaction classification rate (True Positive Classification).\n"
   ]
  },
  {
   "cell_type": "code",
   "execution_count": 1,
   "metadata": {
    "_cell_guid": "08620f56-e0ba-4755-8398-43af65ecb98c",
    "_uuid": "23fad1e8612e76e9c0c018766aa88f73be340f0c"
   },
   "outputs": [],
   "source": [
    "import numpy as np # linear algebra\n",
    "import pandas as pd # data processing, CSV file I/O (e.g. pd.read_csv)\n",
    "\n",
    "from sklearn.utils import shuffle\n",
    "import matplotlib.pyplot as plt\n",
    "from sklearn.metrics import classification_report,confusion_matrix,roc_curve,auc,precision_recall_curve,roc_curve\n",
    "import seaborn as sns\n",
    "\n",
    "from sklearn.svm import SVC\n",
    "from sklearn.model_selection import StratifiedKFold\n",
    "from sklearn.feature_selection import RFECV\n",
    "from sklearn.datasets import make_classification\n",
    "from sklearn import discriminant_analysis\n",
    "\n",
    "from sklearn.model_selection import GridSearchCV\n",
    "from sklearn.linear_model import LogisticRegression\n",
    "\n",
    "from sklearn.metrics import classification_report\n",
    "4\n",
    "from sklearn.decomposition import PCA\n",
    "\n",
    "from sklearn.metrics import confusion_matrix\n",
    "import itertools\n",
    "from itertools import cycle\n",
    "\n",
    "from sklearn import discriminant_analysis\n",
    "\n",
    "# Input data files are available in the \"../input/\" directory.\n",
    "# For example, running this (by clicking run or pressing Shift+Enter) will list the files in the input directory\n",
    "\n",
    "\n",
    "# Any results you write to the current directory are saved as output."
   ]
  },
  {
   "cell_type": "code",
   "execution_count": 2,
   "metadata": {
    "_cell_guid": "f37ac6a2-b370-478d-ae46-1484d7d96a53",
    "_uuid": "3a9e14b51a4f1fd629c735f73ea4f6e9142c612f",
    "collapsed": true
   },
   "outputs": [],
   "source": [
    "df = pd.read_csv(\"creditcard.csv\")\n",
    "#df = pd.read_csv(\"./data/creditcard.csv\")"
   ]
  },
  {
   "cell_type": "markdown",
   "metadata": {
    "_cell_guid": "8fb26fde-63b3-4969-8502-09bd8668d449",
    "_uuid": "bb6002e61cbda5d34266e28ba8f8f10cc1f5d146"
   },
   "source": [
    "**1/ Exploring the Dataset**"
   ]
  },
  {
   "cell_type": "code",
   "execution_count": 3,
   "metadata": {
    "_cell_guid": "0bf78274-0c84-40d3-8879-da232cea0b8c",
    "_uuid": "60bb915daf74ed02f0ffa024b0c9150e6bca588f"
   },
   "outputs": [
    {
     "name": "stdout",
     "output_type": "stream",
     "text": [
      "0.00173047500132\n"
     ]
    }
   ],
   "source": [
    "dfFraud = df[df.Class==1]\n",
    "dfNorm = df[df.Class==0]\n",
    "ratio = float(len(dfFraud))/len(dfNorm)\n",
    "print(ratio)"
   ]
  },
  {
   "cell_type": "markdown",
   "metadata": {
    "_cell_guid": "67fc1beb-d8a3-43a1-8b44-b43b7f61e216",
    "_uuid": "96036f16dc58030914cb44dd8cfa0735c593d380"
   },
   "source": [
    "Apparently, the dataset is highly unbalanced, the positive class (Fraud transactions) account for 0.172% of all transactions."
   ]
  },
  {
   "cell_type": "markdown",
   "metadata": {
    "_cell_guid": "0d7dffb7-ee94-47a9-a75a-e48deb815f44",
    "_uuid": "b28b9a253eecb825d0f924cab75d4485a8149a32"
   },
   "source": [
    "**2/ Selecting features**"
   ]
  },
  {
   "cell_type": "code",
   "execution_count": 4,
   "metadata": {
    "_cell_guid": "cf2b208c-0240-4887-8a21-a8096bae5420",
    "_uuid": "3888061b1cdb8691a3df481dd836898062f0c67a",
    "collapsed": true
   },
   "outputs": [],
   "source": [
    "y_target = df.Class\n",
    "X_data = df.drop(['Class'], axis=1)"
   ]
  },
  {
   "cell_type": "markdown",
   "metadata": {
    "_cell_guid": "3476747b-c3d6-4fa5-96b5-1772049c760e",
    "_uuid": "630d497aa1d3988220a2a29ac6253dc63a3f6c51"
   },
   "source": [
    "Feature ranking with recursive feature elimination and cross-validated selection of the best number of features."
   ]
  },
  {
   "cell_type": "code",
   "execution_count": 5,
   "metadata": {
    "_cell_guid": "10779256-cbae-4aa8-a8fa-7af9abe69d5d",
    "_uuid": "21d0bc15c3ca4ce5abb0284e7d908e30009853a3"
   },
   "outputs": [
    {
     "name": "stdout",
     "output_type": "stream",
     "text": [
      "Optimal number of features : 11\n"
     ]
    },
    {
     "data": {
      "image/png": "[encoded data removed]",
      "text/plain": [
       "<matplotlib.figure.Figure at 0x10dadf190>"
      ]
     },
     "metadata": {},
     "output_type": "display_data"
    }
   ],
   "source": [
    "# Create the RFE object and compute a cross-validated score.\n",
    "lda = discriminant_analysis.LinearDiscriminantAnalysis()#SVC(kernel=\"linear\")\n",
    "# The \"accuracy\" scoring is proportional to the number of correct\n",
    "# classifications\n",
    "rfecv = RFECV(estimator=lda, step=1, cv=StratifiedKFold(3),\n",
    "              scoring='accuracy')\n",
    "rfecv.fit(X_data, y_target)\n",
    "\n",
    "print(\"Optimal number of features : %d\" % rfecv.n_features_)\n",
    "\n",
    "# Plot number of features VS. cross-validation scores\n",
    "plt.figure(figsize=(5,5))\n",
    "plt.xlabel(\"Number of features selected\")\n",
    "plt.ylabel(\"Cross validation score (nb of correct classifications)\")\n",
    "plt.plot(range(1, len(rfecv.grid_scores_) + 1), rfecv.grid_scores_)\n",
    "plt.show()"
   ]
  },
  {
   "cell_type": "code",
   "execution_count": null,
   "metadata": {
    "_cell_guid": "d33f70e1-9296-4e87-99d4-a738287d3885",
    "_uuid": "af47d26ce3c42d0fe569ab3c91782783e52a6d21"
   },
   "outputs": [],
   "source": [
    "rfecv.grid_scores_"
   ]
  },
  {
   "cell_type": "code",
   "execution_count": null,
   "metadata": {
    "_cell_guid": "3face808-f12a-4ad2-8ad1-054a4b7bec19",
    "_uuid": "6c3de6af82cd55569f1fd7814f323f689031427d"
   },
   "outputs": [],
   "source": [
    "rfecv.support_"
   ]
  },
  {
   "cell_type": "code",
   "execution_count": null,
   "metadata": {
    "_cell_guid": "5d095164-5f05-49e4-8636-7917f7d646a1",
    "_uuid": "12a766da760ce0472e5e98b8644453f447477f15"
   },
   "outputs": [],
   "source": [
    "rfecv.ranking_"
   ]
  },
  {
   "cell_type": "markdown",
   "metadata": {
    "_cell_guid": "3ecd0a47-5a39-400f-8a02-aacdf7a9f701",
    "_uuid": "1388bf660a1e377d85f215a17e12a503e00d9041"
   },
   "source": [
    "List of selected features:"
   ]
  },
  {
   "cell_type": "code",
   "execution_count": null,
   "metadata": {
    "_cell_guid": "29d6cd03-83cd-4534-956d-d192c1e5e814",
    "_uuid": "030ae5a5700dd3aa82e3f4afced31889905eba87"
   },
   "outputs": [],
   "source": [
    "X_data.columns.values[rfecv.support_]"
   ]
  },
  {
   "cell_type": "markdown",
   "metadata": {
    "_cell_guid": "d5ea0008-6dad-4b0d-b473-e0ed100c2c72",
    "_uuid": "95976aabab9dd4fe1e5329db257c8a82f775530c"
   },
   "source": [
    "**3/ Preparing Training and Testing datasets**"
   ]
  },
  {
   "cell_type": "markdown",
   "metadata": {
    "_cell_guid": "3c13f1f1-9829-44d0-9d12-80d9bbee32f7",
    "_uuid": "d5991b8938a2a733cce536c53f5463f394870ef2"
   },
   "source": [
    "* Split the data into Normal and Fraud datasets\n",
    "* Shuffle the data before taking sample to make sure the data from each class is randomly selected\n",
    "* Eliminate the features/predictors that have low/none support to the classification "
   ]
  },
  {
   "cell_type": "code",
   "execution_count": 6,
   "metadata": {
    "_cell_guid": "50f8dfba-f476-463e-9bbe-c1d91db3635b",
    "_uuid": "7aef5d5df8587e54ec3c049c499d90ae56d8bd94",
    "collapsed": true
   },
   "outputs": [],
   "source": [
    "#Shuffle the dataframes so that the training is done in a random order.\n",
    "dfNorm = shuffle(dfNorm)\n",
    "dfFraud = shuffle(dfFraud)\n",
    "\n",
    "# Set X_train equal to 80% of the fraudulent transactions.\n",
    "X_train = dfFraud.sample(frac=0.8)\n",
    "\n",
    "# Add 80% of the normal transactions to X_train.\n",
    "X_train = pd.concat([X_train, dfNorm.sample(frac = 0.8)], axis = 0)\n",
    "\n",
    "# X_test contains all the transaction not in X_train.\n",
    "X_test = df.loc[~df.index.isin(X_train.index)]\n",
    "\n",
    "y_train = X_train['Class']\n",
    "y_test = X_test['Class']\n",
    "\n",
    "X_train = X_train.iloc[:,rfecv.support_]\n",
    "X_test = X_test.iloc[:,rfecv.support_]"
   ]
  },
  {
   "cell_type": "code",
   "execution_count": 7,
   "metadata": {
    "_cell_guid": "36052d11-c4b6-4ca3-a4bb-c86c0124be0d",
    "_uuid": "f69a49bceff90b605d4dc1b8c1b276c96d6e7f4a"
   },
   "outputs": [
    {
     "data": {
      "text/plain": [
       "((284807, 30), (227846, 11), (56961, 11))"
      ]
     },
     "execution_count": 7,
     "metadata": {},
     "output_type": "execute_result"
    }
   ],
   "source": [
    "X_data.shape, X_train.shape, X_test.shape"
   ]
  },
  {
   "cell_type": "code",
   "execution_count": 8,
   "metadata": {
    "_cell_guid": "d7f339df-9a01-438b-a6ec-d5d6fdfe642f",
    "_uuid": "b969b62c42bc88bbfed2c75c492d0de642ccac12"
   },
   "outputs": [
    {
     "data": {
      "text/plain": [
       "array(['V3', 'V4', 'V7', 'V9', 'V10', 'V11', 'V12', 'V14', 'V16', 'V17',\n",
       "       'V18'], dtype=object)"
      ]
     },
     "execution_count": 8,
     "metadata": {},
     "output_type": "execute_result"
    }
   ],
   "source": [
    "X_train.columns.values"
   ]
  },
  {
   "cell_type": "markdown",
   "metadata": {
    "_cell_guid": "700a92f4-506c-4d3d-a9a6-b53eaa94e414",
    "_uuid": "0f9a05d1f39b3a5117932e64a075b014817e8eee"
   },
   "source": [
    "The Training dataset is now containing only features supporting the classification process."
   ]
  },
  {
   "cell_type": "markdown",
   "metadata": {
    "_cell_guid": "12f3a594-aeca-4b0c-bf6d-56c7a0fefa76",
    "_uuid": "80b4ea88f11f891f04c5c174e7295fb25b160c3c"
   },
   "source": [
    "**4/ Resampling data**"
   ]
  },
  {
   "cell_type": "markdown",
   "metadata": {
    "_cell_guid": "09c8c1b8-66c7-4995-b303-620be40a32e1",
    "_uuid": "250c8f45863442666449eed303e9f7fc6d4ba078"
   },
   "source": [
    "4.1/ Transforming Training Dataset\n",
    "The ratio 0.17% between the Fraud and Normal classes is showing an strongly unbalanced data in favor to the Normal class. Resampling is used to transform the Training dataset, in which we will under-resampling the Normal class, and make the Dataset balanced out between the Classes, this prevents fitting model from overfitting on the majority class.\n",
    "\n",
    "Centroid Clustering technique is used to transform the Training dataset. Perform under-sampling by generating centroids based on clustering methods. Method that under samples the majority class by replacing a cluster of majority samples by the cluster centroid of a KMeans algorithm. This algorithm keeps N majority samples by fitting the KMeans algorithm with N cluster to the majority class and using the coordinates of the N cluster centroids as the new majority samples."
   ]
  },
  {
   "cell_type": "code",
   "execution_count": 9,
   "metadata": {
    "_cell_guid": "0430b7c3-9684-4832-a173-fe76bdeffa19",
    "_uuid": "0c210335b9fe2af2a257cb400044f8eb86622d3d"
   },
   "outputs": [
    {
     "ename": "ImportError",
     "evalue": "No module named imblearn.under_sampling",
     "output_type": "error",
     "traceback": [
      "\u001b[0;31m---------------------------------------------------------------------------\u001b[0m",
      "\u001b[0;31mImportError\u001b[0m                               Traceback (most recent call last)",
      "\u001b[0;32m<ipython-input-9-545e825abedd>\u001b[0m in \u001b[0;36m<module>\u001b[0;34m()\u001b[0m\n\u001b[0;32m----> 1\u001b[0;31m \u001b[0;32mfrom\u001b[0m \u001b[0mimblearn\u001b[0m\u001b[0;34m.\u001b[0m\u001b[0munder_sampling\u001b[0m \u001b[0;32mimport\u001b[0m \u001b[0mClusterCentroids\u001b[0m\u001b[0;34m\u001b[0m\u001b[0m\n\u001b[0m\u001b[1;32m      2\u001b[0m \u001b[0mcc\u001b[0m \u001b[0;34m=\u001b[0m \u001b[0mClusterCentroids\u001b[0m\u001b[0;34m(\u001b[0m\u001b[0mrandom_state\u001b[0m\u001b[0;34m=\u001b[0m\u001b[0;36m0\u001b[0m\u001b[0;34m)\u001b[0m\u001b[0;34m\u001b[0m\u001b[0m\n\u001b[1;32m      3\u001b[0m \u001b[0mX_resampled\u001b[0m\u001b[0;34m,\u001b[0m \u001b[0my_resampled\u001b[0m \u001b[0;34m=\u001b[0m \u001b[0mcc\u001b[0m\u001b[0;34m.\u001b[0m\u001b[0mfit_sample\u001b[0m\u001b[0;34m(\u001b[0m\u001b[0mX_train\u001b[0m\u001b[0;34m,\u001b[0m \u001b[0my_train\u001b[0m\u001b[0;34m)\u001b[0m\u001b[0;34m\u001b[0m\u001b[0m\n",
      "\u001b[0;31mImportError\u001b[0m: No module named imblearn.under_sampling"
     ]
    }
   ],
   "source": [
    "from imblearn.under_sampling import ClusterCentroids\n",
    "cc = ClusterCentroids(random_state=0)\n",
    "X_resampled, y_resampled = cc.fit_sample(X_train, y_train)"
   ]
  },
  {
   "cell_type": "code",
   "execution_count": null,
   "metadata": {
    "_cell_guid": "4120f847-1112-4dc6-8fb3-94460072fff9",
    "_uuid": "ce7df63f9ce5c45c012a4ffe01eb226f45040f45"
   },
   "outputs": [],
   "source": [
    "X_train_ = X_resampled\n",
    "y_train_ = y_resampled\n",
    "X_test_ = X_test\n",
    "y_test_ = y_test"
   ]
  },
  {
   "cell_type": "markdown",
   "metadata": {
    "_cell_guid": "8ec27748-0c6e-4147-8a2a-e434741f6534",
    "_uuid": "1192b5feacc16635085b9f128ecac295dfa79020"
   },
   "source": [
    "* Verifying the number of features from the original Training Dataset and the transfomred Training Dataset."
   ]
  },
  {
   "cell_type": "code",
   "execution_count": null,
   "metadata": {
    "_cell_guid": "e4f9c37b-17a5-401f-97f9-bd8197ba46d8",
    "_uuid": "5cb03b05a589e331fc8e0307a7d3279b385ee2c4"
   },
   "outputs": [],
   "source": [
    "X_train.shape, X_train_.shape, y_train.shape, y_train_.shape"
   ]
  },
  {
   "cell_type": "markdown",
   "metadata": {
    "_cell_guid": "62467bb3-4c30-42fa-bbc6-e611af175f37",
    "_uuid": "cd21399c024bd2b581a2f5d82231985b12d34aab"
   },
   "source": [
    "* Verifying the balancing between the Normal and Fraud classes."
   ]
  },
  {
   "cell_type": "code",
   "execution_count": null,
   "metadata": {
    "_cell_guid": "92ed5bfa-d3c0-4d10-8914-95ff85b389ef",
    "_uuid": "ced10d50a5b2facedb4b1ce2eeba4a3bedb601f5",
    "collapsed": true
   },
   "outputs": [],
   "source": [
    "sum(y_train_==1), sum(y_train_==0)"
   ]
  },
  {
   "cell_type": "markdown",
   "metadata": {
    "_cell_guid": "6fa0b2ac-b350-4d4a-a84d-4a45563b75bd",
    "_uuid": "67245d3ec4dc2942f0778ef60a2e6f72a60c41d3"
   },
   "source": [
    "4.2/ Examing the original Training dataset and its under-resamplingversion after the transforming process."
   ]
  },
  {
   "cell_type": "code",
   "execution_count": null,
   "metadata": {
    "_cell_guid": "13172d65-d783-4a61-881f-864175c2f2bf",
    "_uuid": "004c4ad77136f8491796e4e1578b878ee927db8d",
    "collapsed": true
   },
   "outputs": [],
   "source": [
    "# Instanciate a PCA object for the sake of easy visualisation\n",
    "pca = PCA(n_components=2)\n",
    "# Fit and transform x to visualise inside a 2D feature space\n",
    "X_vis = pca.fit_transform(X_train)\n",
    "\n",
    "# Apply SMOTE + ENN\n",
    "#sm = SMOTEENN(ratio = 'minority')\n",
    "#X_resampled, y_resampled = sm.fit_sample(X_train, y_train)\n",
    "X_res_vis = pca.transform(X_resampled)\n",
    "\n",
    "# Two subplots, unpack the axes array immediately\n",
    "plt.rcParams['figure.figsize'] = 10, 5\n",
    "f, (ax1, ax2) = plt.subplots(1, 2)\n",
    "\n",
    "c0 = ax1.scatter(X_vis[y_train == 0, 0], X_vis[y_train == 0, 1], label=\"Class #0\",\n",
    "                 alpha=0.5)\n",
    "c1 = ax1.scatter(X_vis[y_train == 1, 0], X_vis[y_train == 1, 1], label=\"Class #1\",\n",
    "                 alpha=0.5)\n",
    "ax1.set_title('Original set')\n",
    "\n",
    "ax2.scatter(X_res_vis[y_resampled == 0, 0], X_res_vis[y_resampled == 0, 1],\n",
    "            label=\"Class #0\", alpha=0.5)\n",
    "ax2.scatter(X_res_vis[y_resampled == 1, 0], X_res_vis[y_resampled == 1, 1],\n",
    "            label=\"Class #1\", alpha=0.5)\n",
    "#ax2.set_title('SMOTE + ENN')\n",
    "ax2.set_title('Cluster Centroids')\n",
    "\n",
    "# make nice plotting\n",
    "for ax in (ax1, ax2):\n",
    "    ax.spines['top'].set_visible(False)\n",
    "    ax.spines['right'].set_visible(False)\n",
    "    ax.get_xaxis().tick_bottom()\n",
    "    ax.get_yaxis().tick_left()\n",
    "    ax.spines['left'].set_position(('outward', 10))\n",
    "    ax.spines['bottom'].set_position(('outward', 10))\n",
    "    #ax.set_xlim([-6, 8])\n",
    "    #ax.set_ylim([-6, 6])\n",
    "\n",
    "f.legend((c0, c1), ('Class #0', 'Class #1'), loc='lower center',\n",
    "         ncol=2, labelspacing=0.)\n",
    "plt.tight_layout(pad=3)\n",
    "plt.show()"
   ]
  },
  {
   "cell_type": "markdown",
   "metadata": {
    "_cell_guid": "22402682-38c7-46e0-b9f3-d5c8d50f91d6",
    "_uuid": "d5902f0d5690d8cb335de5fc0e470c59a3a43dbf"
   },
   "source": [
    "**5/ Fitting Models**"
   ]
  },
  {
   "cell_type": "markdown",
   "metadata": {
    "_cell_guid": "bc9a4d4f-9956-41a7-9b58-7c585824ffa3",
    "_uuid": "02dd01277c79246ecff6049bf166b791da0866cf"
   },
   "source": [
    "**5.1/ QDA model**"
   ]
  },
  {
   "cell_type": "markdown",
   "metadata": {
    "_cell_guid": "c246eab4-d396-4181-b5d1-ff1c0f4b1b52",
    "_uuid": "f3cce8b6f04d7104a2a19c6e80d7a41b3cd9c4fa"
   },
   "source": [
    "**5.1.1/ Fitting QDA model****"
   ]
  },
  {
   "cell_type": "code",
   "execution_count": null,
   "metadata": {
    "_cell_guid": "0c10eb63-5bad-4373-96fb-8204342dd0f6",
    "_uuid": "a30457051526bb6ca51e095a811cd33d0c3ab63b",
    "collapsed": true
   },
   "outputs": [],
   "source": [
    "QDA_model = discriminant_analysis.QuadraticDiscriminantAnalysis()\n",
    "QDA_model.fit(X_train_, y_train_)"
   ]
  },
  {
   "cell_type": "markdown",
   "metadata": {
    "_cell_guid": "8e4958f3-0883-4268-9f19-8fbc3a4cacc3",
    "_uuid": "bb6dc0b8c4f47174c5cce0de473191650941af63"
   },
   "source": [
    "* ***QDA model Score on the Training Dataset:***"
   ]
  },
  {
   "cell_type": "code",
   "execution_count": null,
   "metadata": {
    "_cell_guid": "b2a53a86-7886-4a51-8ec9-a09216d9e2e2",
    "_uuid": "d3ff673930ac3337ac6bddaea9b3aaf787e10f05",
    "collapsed": true
   },
   "outputs": [],
   "source": [
    "QDA_model.score(X_train_, y_train_)"
   ]
  },
  {
   "cell_type": "code",
   "execution_count": null,
   "metadata": {
    "_cell_guid": "5d5b4f9e-97af-4849-8d33-1bb81f11c047",
    "_uuid": "86ba21cf3c59cee80910cdbc19d8dc664671777c",
    "collapsed": true
   },
   "outputs": [],
   "source": [
    "class_names = [\"Normal\", \"Fraud\"]\n",
    "\n",
    "\n",
    "def plot_confusion_matrix(cm, classes,\n",
    "                          normalize=False,\n",
    "                          title='Confusion matrix',\n",
    "                          cmap=plt.cm.Blues):\n",
    "    \"\"\"\n",
    "    This function prints and plots the confusion matrix.\n",
    "    Normalization can be applied by setting `normalize=True`.\n",
    "    \"\"\"\n",
    "    if normalize:\n",
    "        cm = cm.astype('float') / cm.sum(axis=1)[:, np.newaxis]\n",
    "        print(\"Normalized confusion matrix\")\n",
    "    else:\n",
    "        print('Confusion matrix, without normalization')\n",
    "\n",
    "    print(cm)\n",
    "\n",
    "    plt.imshow(cm, interpolation='nearest', cmap=cmap)\n",
    "    plt.title(title)\n",
    "    plt.colorbar()\n",
    "    tick_marks = np.arange(len(classes))\n",
    "    plt.xticks(tick_marks, classes, rotation=45)\n",
    "    plt.yticks(tick_marks, classes)\n",
    "\n",
    "    fmt = '.2f' if normalize else 'd'\n",
    "    thresh = cm.max() / 2.\n",
    "    for i, j in itertools.product(range(cm.shape[0]), range(cm.shape[1])):\n",
    "        plt.text(j, i, format(cm[i, j], fmt),\n",
    "                 horizontalalignment=\"center\",\n",
    "                 color=\"white\" if cm[i, j] > thresh else \"black\")\n",
    "\n",
    "    plt.tight_layout()\n",
    "    plt.ylabel('True label')\n",
    "    plt.xlabel('Predicted label')"
   ]
  },
  {
   "cell_type": "code",
   "execution_count": null,
   "metadata": {
    "_cell_guid": "307a9c1f-0c55-435d-ade1-910309078fc6",
    "_uuid": "b7937b8c63a9c5d79788e460595f02441556204b",
    "collapsed": true
   },
   "outputs": [],
   "source": [
    "def plotConfusion(model, X, y):\n",
    "    y_true, y_pred = y, model.predict(X)\n",
    "    # Compute confusion matrix\n",
    "    cnf_matrix = confusion_matrix(y_true, y_pred)\n",
    "    np.set_printoptions(precision=2)\n",
    "\n",
    "    # Plot non-normalized confusion matrix\n",
    "    plt.figure(figsize=(5,5))\n",
    "    plot_confusion_matrix(cnf_matrix, classes=class_names,\n",
    "                          title='Confusion matrix, without normalization')\n",
    "\n",
    "    # Plot normalized confusion matrix\n",
    "    plt.figure(figsize=(5,5))\n",
    "    plot_confusion_matrix(cnf_matrix, classes=class_names, normalize=True,\n",
    "                          title='Normalized confusion matrix')\n",
    "\n",
    "    plt.show()\n",
    "\n",
    "plotConfusion(QDA_model, X_train_, y_train_)"
   ]
  },
  {
   "cell_type": "markdown",
   "metadata": {
    "_cell_guid": "93c1d817-3c3b-4d77-8d7b-994e20f6a2f4",
    "_uuid": "69d5845a9472733e8e4837ac9ff69c676e6fe6ae"
   },
   "source": [
    "* ***QDA model Score on the Test Dataset:***"
   ]
  },
  {
   "cell_type": "code",
   "execution_count": null,
   "metadata": {
    "_cell_guid": "67163160-808c-422c-81fa-dd27833914c0",
    "_uuid": "3b71c5ccb7719822d27e4edc17bc83471ec38792",
    "collapsed": true
   },
   "outputs": [],
   "source": [
    "QDA_model.score(X_test_, y_test_)"
   ]
  },
  {
   "cell_type": "code",
   "execution_count": null,
   "metadata": {
    "_cell_guid": "7e05f077-7339-4714-9447-d47be65a69ca",
    "_uuid": "7393524eacc81cc9fd46027632b23f649147438d",
    "collapsed": true
   },
   "outputs": [],
   "source": [
    "plotConfusion(QDA_model, X_test_, y_test_)"
   ]
  },
  {
   "cell_type": "markdown",
   "metadata": {
    "_cell_guid": "95be59f5-bd7a-4999-812e-860b94a7ea11",
    "_uuid": "1b20b44d4403ad3022e410abb81f2f5c1fdc65d6"
   },
   "source": [
    "***5.1.2/ A glance at how the QDA Classification works on the Test Dataset:***"
   ]
  },
  {
   "cell_type": "code",
   "execution_count": null,
   "metadata": {
    "_cell_guid": "00db3857-8b6c-43d9-953c-6c3b30b8bad4",
    "_uuid": "40d35dff9b9c35ec5e8659730048256976a8d8aa",
    "collapsed": true
   },
   "outputs": [],
   "source": [
    "def plotModel(model, x, y, label):\n",
    "    '''\n",
    "    model: a fitted model\n",
    "    x, y: two variables, should arrays\n",
    "    label: true label\n",
    "    '''\n",
    "    x_min = x.min() - 1\n",
    "    x_max = x.max() + 1\n",
    "    y_min = y.min() - 1\n",
    "    y_max = y.max() + 1\n",
    "    import  matplotlib.pyplot as pl\n",
    "    from matplotlib import colors\n",
    "    colDict = {'red': [(0, 1, 1), (1, 0.7, 0.7)],\n",
    "               'green': [(0, 1, 0.5), (1, 0.7, 0.7)],\n",
    "               'blue': [(0, 1, 0.5), (1, 1, 1)]}\n",
    "    cmap = colors.LinearSegmentedColormap('red_blue_classes', colDict)\n",
    "    plt.cm.register_cmap(cmap=cmap)\n",
    "    nx, ny = 200, 200\n",
    "    xx, yy = np.meshgrid(np.linspace(x_min, x_max, nx),\n",
    "                         np.linspace(y_min, y_max, ny))\n",
    "    Z = model.predict(np.c_[xx.ravel(), yy.ravel()])\n",
    "    Z = Z.reshape(xx.shape)\n",
    "    ## plot colormap\n",
    "    plt.pcolormesh(xx, yy, Z, cmap='red_blue_classes')\n",
    "    ## plot boundaries\n",
    "    plt.contour(xx, yy, Z, [0.5], linewidths=1., colors='k')\n",
    "    plt.contour(xx, yy, Z, [1], linewidths=1., colors='k')\n",
    "    ## plot scatters ans true labels\n",
    "    plt.scatter(x, y, c = label)\n",
    "    plt.xlim(x_min, x_max)\n",
    "    plt.ylim(y_min, y_max)\n",
    "\n",
    "labels = X_train.columns.values\n",
    "\n",
    "def pairPlot(model, i, j):\n",
    "    model.fit(X_test_.iloc[:,[i,j]], y_test_)\n",
    "    plotModel(model, X_test_.iloc[:, i], X_test_.iloc[:, j], y_test_)\n",
    "    plt.xlabel(labels[i])\n",
    "    plt.ylabel(labels[j])\n"
   ]
  },
  {
   "cell_type": "code",
   "execution_count": null,
   "metadata": {
    "_cell_guid": "2dc0fb71-44d4-4582-9967-a91af044e212",
    "_uuid": "30480abdac8e6469f62a44abb579db94bc4f2d7b",
    "collapsed": true
   },
   "outputs": [],
   "source": [
    "#QDA = discriminant_analysis.QuadraticDiscriminantAnalysis()\n",
    "plt.rcParams['figure.figsize'] = 16, 10\n",
    "plt.subplot(321)\n",
    "pairPlot(QDA_model, 0, 1)\n",
    "\n",
    "plt.subplot(322)\n",
    "pairPlot(QDA_model, 0, 2)\n",
    "\n",
    "plt.subplot(323)\n",
    "pairPlot(QDA_model, 0, 3)\n",
    "\n",
    "plt.subplot(324)\n",
    "pairPlot(QDA_model, 1, 2)\n",
    "\n",
    "plt.subplot(325)\n",
    "pairPlot(QDA_model, 1, 3)\n",
    "\n",
    "plt.subplot(326)\n",
    "pairPlot(QDA_model, 2, 3)"
   ]
  },
  {
   "cell_type": "markdown",
   "metadata": {
    "_cell_guid": "fa8f56f1-a76c-4894-95a9-f9c411a6a99b",
    "_uuid": "1182a44706409908224344dd18139d958a983f6e"
   },
   "source": [
    "**5.2/ Logistic Regression model**"
   ]
  },
  {
   "cell_type": "markdown",
   "metadata": {
    "_cell_guid": "a0f277b4-6242-4cd4-b021-5a261ffabc99",
    "_uuid": "8f11ab31737856d5313c11da964f94040baeb19b"
   },
   "source": [
    "**4.2.1/ Fitting Logistic Regression model**"
   ]
  },
  {
   "cell_type": "code",
   "execution_count": null,
   "metadata": {
    "_cell_guid": "dc7d0975-7868-4137-8c4f-e778a37c7732",
    "_uuid": "80198301bde4503c8bac7353093f64f55d262932",
    "collapsed": true
   },
   "outputs": [],
   "source": [
    "param_grid = {'C': [0.001, 0.01, 0.1, 1, 10, 100, 1000] }\n",
    "clf = GridSearchCV(LogisticRegression(penalty='l2'), param_grid)\n",
    "#GridSearchCV(cv=None,\n",
    " #            estimator=LogisticRegression(C=1.0, intercept_scaling=1,   \n",
    " #              dual=False, fit_intercept=True, penalty='l2', tol=0.0001),\n",
    " #            param_grid={'C': [0.001, 0.01, 0.1, 1, 10, 100, 1000]})"
   ]
  },
  {
   "cell_type": "code",
   "execution_count": null,
   "metadata": {
    "_cell_guid": "8c0a75ad-5d6d-42e0-91b4-75f9088a0d54",
    "_uuid": "f62d19cb33fe852701a4acd65c5044e8c9c785e8",
    "collapsed": true
   },
   "outputs": [],
   "source": [
    "#clf.fit(X_resampled2, y_resampled2)\n",
    "clf.fit(X_train_, y_train_)"
   ]
  },
  {
   "cell_type": "code",
   "execution_count": null,
   "metadata": {
    "_cell_guid": "a96345bd-1183-4bed-899b-33ef74b891ac",
    "_uuid": "0b78070867e0c0faddc7a3686a0234049de85475",
    "collapsed": true
   },
   "outputs": [],
   "source": [
    "clf.best_params_"
   ]
  },
  {
   "cell_type": "markdown",
   "metadata": {
    "_cell_guid": "f5844e92-d9ae-4fab-a02b-fa985ff39f85",
    "_uuid": "7e2f5b8806592b5bbe55c8e42017570f6676f150"
   },
   "source": [
    "**5.2.2/ Examining the Logistic Regression model**"
   ]
  },
  {
   "cell_type": "markdown",
   "metadata": {
    "_cell_guid": "13879f9e-6f09-4de6-92d1-5417f0ddf625",
    "_uuid": "c699a91a8bb1323797cdc3f01808b5667832ef4b"
   },
   "source": [
    "*  ***Classification on the Training Dataset: ***"
   ]
  },
  {
   "cell_type": "code",
   "execution_count": null,
   "metadata": {
    "_cell_guid": "e6ada246-4c49-4dd8-9d8e-ab7f63569f82",
    "_uuid": "529635d06861ab83f8f31d15c1368836069255e9",
    "collapsed": true
   },
   "outputs": [],
   "source": [
    "plotConfusion(clf, X_train_, y_train_)"
   ]
  },
  {
   "cell_type": "markdown",
   "metadata": {
    "_cell_guid": "32d98b7e-176d-450d-8edf-f65d17162028",
    "_uuid": "a4fe752ca4441dc0e5f208853cb7c3cf8cbd78d2"
   },
   "source": [
    "* ***Classification on the Test Dataset: ***"
   ]
  },
  {
   "cell_type": "code",
   "execution_count": null,
   "metadata": {
    "_cell_guid": "3631b29b-bc92-47b2-90a0-43887e954105",
    "_uuid": "8d8002da382b2cbf20f338cab5aa4b52238cb594",
    "collapsed": true
   },
   "outputs": [],
   "source": [
    "plotConfusion(clf, X_test_, y_test_)"
   ]
  },
  {
   "cell_type": "markdown",
   "metadata": {
    "_cell_guid": "c5b76537-f220-4972-8f53-ad3579b039f6",
    "_uuid": "a2254151ea392d342acfbc3d2c4b59da0465365b"
   },
   "source": [
    "**5.2.3/ Selecting probabitiy threshold for the Logistic Regression Model Classification: **"
   ]
  },
  {
   "cell_type": "markdown",
   "metadata": {
    "_cell_guid": "44286c79-e98f-42cb-a5f2-2d0b943b7401",
    "_uuid": "20e7e2c0f0ae746245a149f47aa615139f9e932e"
   },
   "source": [
    "This classification scoring is going to be examined further in order to find the opitmal point where the model can achieve not only high score in dectecting Fraud (Recall Score), but also high score in correctly classifying Normal transactions (Precision Score) due to the following aspects:\n",
    "*     High Fraud classification (Recall score) rate will obviously help business/bank from losing money\n",
    "*     High Normal classification (Precision score) rate will help improve the Customer Experience/Satisfactory"
   ]
  },
  {
   "cell_type": "code",
   "execution_count": null,
   "metadata": {
    "_cell_guid": "da5f9113-32e8-4f8a-b97d-63bb0df315a4",
    "_uuid": "0e73a4144bbd66b1d4d35843c3f500d73be7f5b4",
    "collapsed": true
   },
   "outputs": [],
   "source": [
    "y_pred_test_proba = clf.predict_proba(X_test_)\n",
    "\n",
    "thresholds = [0.1,0.2,0.3,0.4,0.5,0.6,0.7,0.8,0.9]\n",
    "colors = cycle(['navy', 'turquoise', 'darkorange', 'cornflowerblue', 'teal', 'red', 'yellow', 'green', 'blue','black'])\n",
    "\n",
    "prec, rec = [],[]\n",
    "for i in thresholds:\n",
    "    y_test_predictions_high_recall = y_pred_test_proba[:,1] > i\n",
    "    \n",
    "    # Compute confusion matrix\n",
    "    cnf_matrix = confusion_matrix(y_test_,y_test_predictions_high_recall)\n",
    "    np.set_printoptions(precision=2)\n",
    "    \n",
    "    p = float(cnf_matrix[0,0])/(cnf_matrix[0,1]+cnf_matrix[0,0])\n",
    "    r = float(cnf_matrix[1,1])/(cnf_matrix[1,0]+cnf_matrix[1,1])\n",
    "    rec.append(r)\n",
    "    prec.append(p)\n",
    "\n",
    "    print(\"Probability Threshold: {0:0.2f}\".format(i))\n",
    "    print(\"Recall metric: {0:0.2f}\".format(r))\n",
    "    print(\"Precision metric: {0:0.2f}\".format(p))\n",
    "\n",
    "plt.figure(figsize=(7,7))\n",
    "\n",
    "for i,color,r,p in zip(thresholds,colors,rec,prec):\n",
    "    plt.plot([0, r, 1], [1, p, 0],color=color, label='Threshold: %s'%i)\n",
    "    plt.ylabel('Precision - Normal class')\n",
    "    plt.xlabel('Recall - Fraud class')\n",
    "    plt.ylim([0.0, 1.05])\n",
    "    plt.xlim([0.0, 1.0])\n",
    "    plt.title('Precision - Recall Scores per Classification Threshold')\n",
    "    plt.legend(loc=\"lower left\")"
   ]
  },
  {
   "cell_type": "markdown",
   "metadata": {
    "_cell_guid": "deb19b3b-af3b-41b7-97ab-2923e05e9729",
    "_uuid": "748903256a35e8c4454068df04883c1883e73dc8"
   },
   "source": [
    "We will select the Optimal Threshold where it helps achieve the goal for both Recall (Fraud detection rate) score and Precision score."
   ]
  },
  {
   "cell_type": "markdown",
   "metadata": {
    "_cell_guid": "becbb3bb-744e-42c7-956e-cb33f2c2f66a",
    "_uuid": "86b6fd2d0d257f11a4fba8e3c350acddaa945640",
    "collapsed": true
   },
   "source": [
    "**6.1 / SVM model**"
   ]
  },
  {
   "cell_type": "markdown",
   "metadata": {
    "_cell_guid": "6cc67199-f449-4a7c-84f8-41db63d85263",
    "_uuid": "84891fd53646d10c50603873da555754f80398c9",
    "collapsed": true
   },
   "source": [
    "***6.1.1/ Fitting SVM Model:***"
   ]
  },
  {
   "cell_type": "code",
   "execution_count": null,
   "metadata": {
    "_cell_guid": "3bcd9732-d4a1-4f56-a872-f38541e8bc68",
    "_uuid": "0dcb99a7e51918c756ede3beb5eadedb94be79fc",
    "collapsed": true
   },
   "outputs": [],
   "source": [
    "tuned_parameters = [{'kernel': ['rbf','poly'], 'gamma': [1e-3,  1e-4], 'C': [1,10,100,1000]}]\n",
    "scores = ['precision', 'recall']"
   ]
  },
  {
   "cell_type": "code",
   "execution_count": null,
   "metadata": {
    "_cell_guid": "c9704827-47d6-4727-a675-c03f45caf8b4",
    "_uuid": "5f58a2c4f7bff37a9408f97b0cb316ff6c8deed5",
    "collapsed": true
   },
   "outputs": [],
   "source": [
    "for score in scores:\n",
    "    print(\"# Tuning hyper-parameters for %s\" % score)\n",
    "    print()\n",
    "\n",
    "    svm = GridSearchCV(SVC(), tuned_parameters, cv=5,scoring='%s_macro' % score)\n",
    "    svm.fit(X_train_, y_train_)\n",
    "\n",
    "    print(\"Best parameters set found on Training dataset:\")\n",
    "    print()\n",
    "    print(svm.best_params_)\n",
    "    print()\n",
    "    print(\"Grid scores on Training dataset:\")\n",
    "    print()\n",
    "    means = svm.cv_results_['mean_test_score']\n",
    "    stds = svm.cv_results_['std_test_score']\n",
    "    for mean, std, params in zip(means, stds, svm.cv_results_['params']):\n",
    "        print(\"%0.3f (+/-%0.03f) for %r\"\n",
    "              % (mean, std * 2, params))\n",
    "    print()\n",
    "\n",
    "    print(\"Detailed classification report:\")\n",
    "    print()\n",
    "    y_true_test_svm, y_pred_test_svm = y_test_, svm.predict(X_test_)\n",
    "    print(classification_report(y_true_test_svm, y_pred_test_svm))\n",
    "    print()"
   ]
  },
  {
   "cell_type": "code",
   "execution_count": null,
   "metadata": {
    "_cell_guid": "33b50e87-ad27-487e-a516-793493009786",
    "_uuid": "ed13c03e2618556a13e3b3045f80836a8d2db729",
    "collapsed": true
   },
   "outputs": [],
   "source": [
    "plotConfusion(svm, X_test_, y_test_)"
   ]
  },
  {
   "cell_type": "code",
   "execution_count": null,
   "metadata": {
    "_uuid": "59d8d49727a2c80be2b4baad8db5752e92300576",
    "collapsed": true
   },
   "outputs": [],
   "source": []
  }
 ],
 "metadata": {
  "kernelspec": {
   "display_name": "Python 2",
   "language": "python",
   "name": "python2"
  },
  "language_info": {
   "codemirror_mode": {
    "name": "ipython",
    "version": 2
   },
   "file_extension": ".py",
   "mimetype": "text/x-python",
   "name": "python",
   "nbconvert_exporter": "python",
   "pygments_lexer": "ipython2",
   "version": "2.7.13"
  }
 },
 "nbformat": 4,
 "nbformat_minor": 1
}
